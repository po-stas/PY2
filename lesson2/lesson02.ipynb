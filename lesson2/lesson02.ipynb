{
 "cells": [
  {
   "cell_type": "markdown",
   "metadata": {},
   "source": [
    "Урок 2. Анализ данных и проверка статистических гипотез."
   ]
  },
  {
   "cell_type": "markdown",
   "metadata": {},
   "source": [
    "1. В чём различие между зависимыми и независимыми выборками?"
   ]
  },
  {
   "cell_type": "markdown",
   "metadata": {},
   "source": [
    "Зависимые выборки - это выборки на одних и тех-же объектах. Сделынные до какого-то события и после. Или скажем производимые периодически для выявления какой-то закономерности. \n",
    "\n",
    "Независимые выборки - соответственно выборки из не связанных объектов"
   ]
  },
  {
   "cell_type": "code",
   "execution_count": null,
   "metadata": {},
   "outputs": [],
   "source": []
  },
  {
   "cell_type": "markdown",
   "metadata": {},
   "source": [
    "2. Когда применяются параметрические статистические критерии, а когда — их непараметрические аналоги?"
   ]
  },
  {
   "cell_type": "markdown",
   "metadata": {},
   "source": [
    "Параметрические статистические критерии применяются, когда выборка данных подчиняется какому-то известному распределению. Собственно критерий в этом случае позволяет проверить, удовлетворяет ли параметр распределения заданной гипотезе или нет.. \n",
    "\n",
    "Непараметрические критерии используются когда распределение выборки неизвестно. Такие критерии отличаются меньшей мощностью, по сравнению с параметрическими."
   ]
  },
  {
   "cell_type": "code",
   "execution_count": null,
   "metadata": {},
   "outputs": [],
   "source": []
  }
 ],
 "metadata": {
  "kernelspec": {
   "display_name": "Python 3",
   "language": "python",
   "name": "python3"
  },
  "language_info": {
   "codemirror_mode": {
    "name": "ipython",
    "version": 3
   },
   "file_extension": ".py",
   "mimetype": "text/x-python",
   "name": "python",
   "nbconvert_exporter": "python",
   "pygments_lexer": "ipython3",
   "version": "3.7.3"
  }
 },
 "nbformat": 4,
 "nbformat_minor": 2
}
